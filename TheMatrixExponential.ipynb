{
 "metadata": {
  "name": "",
  "signature": "sha256:b3862d6110267d8360ca1e6a6838a33a90d4a2c57e9c3e9145e078dc85cbedf7"
 },
 "nbformat": 3,
 "nbformat_minor": 0,
 "worksheets": [
  {
   "cells": [
    {
     "cell_type": "heading",
     "level": 1,
     "metadata": {},
     "source": [
      "The Matrix Exponential"
     ]
    },
    {
     "cell_type": "heading",
     "level": 2,
     "metadata": {},
     "source": [
      "Basic Definitions and Algorithms"
     ]
    },
    {
     "cell_type": "code",
     "collapsed": false,
     "input": [
      "%matplotlib inline\n",
      "import numpy as np\n",
      "import scipy as sp\n",
      "import scipy.linalg as la\n",
      "import matplotlib.pyplot as plt"
     ],
     "language": "python",
     "metadata": {},
     "outputs": [],
     "prompt_number": 62
    },
    {
     "cell_type": "markdown",
     "metadata": {},
     "source": [
      "The matrix exponential is the most commonly used matrix function and is a direct generalisation of the scalar function.\n",
      "\n",
      "First recall the taylor series expansion \n",
      "$$\\exp(x) = \\sum_{k = 0}^\\infty \\frac{x^k}{k!},$$\n",
      "which we can apply to square matrices using matrix multiplcation as\n",
      "$$\\exp(A) = \\sum_{k = 0}^\\infty \\frac{A^k}{k!}.$$\n",
      "\n",
      "This power series converges for every $A$ but this can be <b>very</b> slow when $\\|A\\|$ is large.\n",
      "We can use the relationship \n",
      "$$\\exp\\left(\\frac{A}{2}\\right)^2 = \\exp(A)$$\n",
      "repeatedly to make $\\|A/2^s\\|$ small before applying the Taylor series.\n",
      "This is called the <b>scaling and squaring</b> algorithm."
     ]
    },
    {
     "cell_type": "code",
     "collapsed": false,
     "input": [
      "sconst = 1\n",
      "\n",
      "def TaylorSS(A):\n",
      "    taylordegree = 15\n",
      "    s = np.ceil(sp.log2(la.norm(A))) + sconst # Find s such that norm(A/2^s) is small.\n",
      "    X = A/(2**s)\n",
      "    eX = np.eye(np.shape(A)[0])\n",
      "    for k in range(taylordegree):\n",
      "        eX = eX + X/sp.misc.factorial(k+1) # Compute the Taylor series\n",
      "        X = sp.dot(X, X)\n",
      "        \n",
      "    for k in range(np.int64(s)):\n",
      "        eX = sp.dot(eX, eX) # Do the squaring phase of the algorithm\n",
      "        \n",
      "    return eX\n",
      "\n",
      "#Let's test it against la.expm\n",
      "A = np.random.randn(4, 4)\n",
      "E1 = TaylorSS(A)\n",
      "Eexact = la.expm(A)\n",
      "print la.norm(E1 - Eexact)/la.norm(Eexact) # Relative error"
     ],
     "language": "python",
     "metadata": {},
     "outputs": [
      {
       "output_type": "stream",
       "stream": "stdout",
       "text": [
        "0.00465344168715\n"
       ]
      }
     ],
     "prompt_number": 59
    },
    {
     "cell_type": "markdown",
     "metadata": {},
     "source": [
      "Our algorithm worked but the relative error compared to <b>la.expm</b> is quite poor.\n",
      "If we increase sconst then $\\|X\\|$ will be much smaller and the Taylor series will be more accurate."
     ]
    },
    {
     "cell_type": "code",
     "collapsed": false,
     "input": [
      "relerrs = np.zeros(15)\n",
      "for sconst in range(15):\n",
      "    E = TaylorSS(A)\n",
      "    relerrs[sconst] = la.norm(E - Eexact)/la.norm(Eexact)\n",
      "    \n",
      "plt.plot(relerrs, color='blue', lw=2)\n",
      "plt.yscale('log')"
     ],
     "language": "python",
     "metadata": {},
     "outputs": [
      {
       "metadata": {},
       "output_type": "display_data",
       "png": "[encoded data removed]",
       "text": [
        "<matplotlib.figure.Figure at 0x4c3ab50>"
       ]
      }
     ],
     "prompt_number": 65
    },
    {
     "cell_type": "markdown",
     "metadata": {},
     "source": [
      "This helps a lot but we are still not getting the same accuracy as <b>la.expm</b>.\n",
      "\n",
      "The extra accuracy of <b>la.expm</b> is because it:\n",
      "<ul>\n",
      "<li> uses Pade approximants instead of Taylor series.</li>\n",
      "<li> analyses the backward error of the function.</li>\n",
      "<li> uses cost analysis to perform the least possible number of multiplications.</li>\n",
      "</ul>"
     ]
    },
    {
     "cell_type": "code",
     "collapsed": false,
     "input": [],
     "language": "python",
     "metadata": {},
     "outputs": []
    }
   ],
   "metadata": {}
  }
 ]
}