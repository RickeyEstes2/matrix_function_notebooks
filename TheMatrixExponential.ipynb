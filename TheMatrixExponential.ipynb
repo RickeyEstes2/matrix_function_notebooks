{
 "metadata": {
  "name": "",
  "signature": "sha256:8acd197464b3ea1d10301c4bb62464a64605d377f60678bdc9fd9c7f20bdab42"
 },
 "nbformat": 3,
 "nbformat_minor": 0,
 "worksheets": [
  {
   "cells": [
    {
     "cell_type": "heading",
     "level": 1,
     "metadata": {},
     "source": [
      "The Matrix Exponential"
     ]
    },
    {
     "cell_type": "heading",
     "level": 2,
     "metadata": {},
     "source": [
      "Basic Definitions and Algorithms"
     ]
    },
    {
     "cell_type": "code",
     "collapsed": false,
     "input": [
      "%matplotlib inline\n",
      "import numpy as np\n",
      "import scipy as sp\n",
      "import scipy.linalg as la\n",
      "import scipy.integrate as sint\n",
      "import matplotlib.pyplot as plt"
     ],
     "language": "python",
     "metadata": {},
     "outputs": [],
     "prompt_number": 1
    },
    {
     "cell_type": "markdown",
     "metadata": {},
     "source": [
      "The matrix exponential is the most commonly used matrix function and is a direct generalisation of the scalar function.\n",
      "\n",
      "First recall the taylor series expansion \n",
      "$$\\exp(x) = \\sum_{k = 0}^\\infty \\frac{x^k}{k!},$$\n",
      "which we can apply to square matrices using matrix multiplcation as\n",
      "$$\\exp(A) = \\sum_{k = 0}^\\infty \\frac{A^k}{k!}.$$\n",
      "\n",
      "Some useful properties of the matrix exponential are that\n",
      "$$\\exp(A + B) = \\exp(A)\\exp(B),$$\n",
      "when $A$ and $B$ commute.\n",
      "We also have (MARY'S PAPER THING)"
     ]
    },
    {
     "cell_type": "heading",
     "level": 2,
     "metadata": {},
     "source": [
      "Applications"
     ]
    },
    {
     "cell_type": "markdown",
     "metadata": {},
     "source": [
      "The matrix exponential has a wide variety of applications such as\n",
      "control theory, manifold optimization, and exponential integrators.\n",
      "We'll cover two here: solving systems of linear equations and finding the most important nodes in a complex network."
     ]
    },
    {
     "cell_type": "heading",
     "level": 3,
     "metadata": {},
     "source": [
      "Differential Equations"
     ]
    },
    {
     "cell_type": "markdown",
     "metadata": {},
     "source": [
      "Many of these use the exponential because it gives the explicit solution to the differential equation\n",
      "$$ y'(t) = A y(t),\\qquad y(0) = y_0,$$\n",
      "for $y, y_0 \\in \\mathbb{C}^n$ and $A \\in \\mathbb{C}^{n \\times n}$.\n",
      "The solution of this equation is\n",
      "$$ y(t) = \\exp(At) y_0. $$\n",
      "\n",
      "Knowing this we can compute the solution $y(t)$ at any time point directly\n",
      "without using a time-stepping scheme like the Euler method, for instance.\n",
      "Let's do a simple example showing this for the differential equation\n",
      "$$ y'(t) = \\begin{bmatrix}1 & -2\\\\3 & 4\\end{bmatrix} y(t),\\qquad y(0) = \\begin{bmatrix}1\\\\0\\end{bmatrix},\\qquad t \\in [0, 1].$$"
     ]
    },
    {
     "cell_type": "code",
     "collapsed": false,
     "input": [
      "A = np.array([[1, -2],[3, 4]], dtype=np.double)\n",
      "\n",
      "def yprime(y, t):\n",
      "    return sp.dot(A, y)\n",
      "\n",
      "t = np.linspace(0, 1, 20)\n",
      "yzero = np.array([1, 0])\n",
      "\n",
      "# Solve equation using odeint\n",
      "y = sint.odeint(yprime, yzero, t)\n",
      "plt.plot(y[:, 0], y[:, 1])\n",
      "\n",
      "# Solve for t = 0 ... 1 using exponential\n",
      "tvals = np.linspace(0.0, 1, 10)\n",
      "k = 0\n",
      "for tval in tvals:\n",
      "    yval = sp.dot(la.expm(A*tval), yzero)\n",
      "    plt.plot(yval[0], yval[1], 'rs')"
     ],
     "language": "python",
     "metadata": {},
     "outputs": [
      {
       "metadata": {},
       "output_type": "display_data",
       "png": "[encoded data removed]",
       "text": [
        "<matplotlib.figure.Figure at 0x3c14a90>"
       ]
      }
     ],
     "prompt_number": 2
    },
    {
     "cell_type": "markdown",
     "metadata": {},
     "source": [
      "The other big advantage of having this explicit formula for $y(t)$ is that we can perform\n",
      "sensitivity analysis (how much $y$ changes when we make small changes to $A$)\n",
      "by looking at the derivative of the exponential function.\n",
      "More detail on this can be found (HERE) and (HERE)."
     ]
    },
    {
     "cell_type": "heading",
     "level": 3,
     "metadata": {},
     "source": [
      "Important Nodes in a Network"
     ]
    },
    {
     "cell_type": "markdown",
     "metadata": {},
     "source": [
      "Another recent application of the exponential is in finding the most influential nodes of a network.\n",
      "A network is a set of <b>nodes</b> connected by <b>edges</b>.\n",
      "We can represent a network by its <b>adjacency matrix</b>:\n",
      "we set $A_{ij} = 1$ if node $i$ is connected to node $j$ and $A_{ij} = 0$ otherwise.\n",
      "For example take the following network."
     ]
    },
    {
     "cell_type": "code",
     "collapsed": false,
     "input": [
      "import networkx as nx\n",
      "\n",
      "Adj = np.array([[0, 1, 1, 0, 0, 0], \n",
      "                [1, 0, 1, 1, 1, 0], \n",
      "                [1, 1, 0, 0, 0, 0], \n",
      "                [0, 1, 0, 0, 0, 1], \n",
      "                [0, 1, 0, 0, 0, 0],\n",
      "                [0, 0, 0, 1, 0, 0]])\n",
      "\n",
      "G = nx.from_numpy_matrix(Adj)\n",
      "nx.draw(G)"
     ],
     "language": "python",
     "metadata": {},
     "outputs": [
      {
       "metadata": {},
       "output_type": "display_data",
       "png": "[encoded data removed]",
       "text": [
        "<matplotlib.figure.Figure at 0x45d9350>"
       ]
      }
     ],
     "prompt_number": 15
    },
    {
     "cell_type": "markdown",
     "metadata": {},
     "source": [
      "We can measure the influence of each node using its <b>centrality</b>.\n",
      "It is well known that the number of walks of length $k$ from node $i$ to node $j$ is given by $A^k_{ij}$.\n",
      "If we assume that shorter walks are more important than long ones then we can add up all the contributions to get\n",
      "$$c_1 A + c_2 A^k + c_3 A^3 + \\cdots.$$\n",
      "Choosing $c_k = \\frac{1}{k!}$ we obtain $\\exp(A)$."
     ]
    },
    {
     "cell_type": "code",
     "collapsed": false,
     "input": [
      "centralities = np.diag(la.expm(np.array(Adj, dtype=np.double)))\n",
      "nodeorder = np.argsort(centralities)[::-1]\n",
      "print nodeorder\n",
      "print centralities[nodeorder]"
     ],
     "language": "python",
     "metadata": {},
     "outputs": [
      {
       "output_type": "stream",
       "stream": "stdout",
       "text": [
        "[1 0 2 3 4 5]\n",
        "[ 4.44723536  2.86427609  2.86427609  2.36018456  1.71615913  1.59432922]\n"
       ]
      }
     ],
     "prompt_number": 33
    },
    {
     "cell_type": "markdown",
     "metadata": {},
     "source": [
      "In this example we see that node 1 is the most influential."
     ]
    },
    {
     "cell_type": "heading",
     "level": 2,
     "metadata": {},
     "source": [
      "Computing the Exponential"
     ]
    },
    {
     "cell_type": "markdown",
     "metadata": {},
     "source": [
      "This power series (in the first section) converges for every $A$ but this can be <b>very</b> slow when $\\|A\\|$ is large.\n",
      "We can use the relationship \n",
      "$$\\exp\\left(\\frac{A}{2}\\right)^2 = \\exp(A)$$\n",
      "repeatedly to make $\\|A/2^s\\|$ small before applying the Taylor series.\n",
      "This is called the <b>scaling and squaring</b> algorithm."
     ]
    },
    {
     "cell_type": "code",
     "collapsed": false,
     "input": [
      "sconst = 1\n",
      "\n",
      "def TaylorSS(A):\n",
      "    taylordegree = 15\n",
      "    s = np.ceil(sp.log2(la.norm(A))) + sconst # Find s such that norm(A/2^s) is small.\n",
      "    X = A/(2**s)\n",
      "    eX = np.eye(np.shape(A)[0])\n",
      "    for k in range(taylordegree):\n",
      "        eX = eX + X/sp.misc.factorial(k+1) # Compute the Taylor series\n",
      "        X = sp.dot(X, X)\n",
      "        \n",
      "    for k in range(np.int64(s)):\n",
      "        eX = sp.dot(eX, eX) # Do the squaring phase of the algorithm\n",
      "        \n",
      "    return eX\n",
      "\n",
      "#Let's test it against la.expm\n",
      "A = np.random.randn(4, 4)\n",
      "E1 = TaylorSS(A)\n",
      "Eexact = la.expm(A)\n",
      "print la.norm(E1 - Eexact)/la.norm(Eexact) # Relative error"
     ],
     "language": "python",
     "metadata": {},
     "outputs": [
      {
       "output_type": "stream",
       "stream": "stdout",
       "text": [
        "0.00565258768169\n"
       ]
      }
     ],
     "prompt_number": 34
    },
    {
     "cell_type": "markdown",
     "metadata": {},
     "source": [
      "Our algorithm worked but the relative error compared to <b>scipy.linalg.expm</b> is quite poor.\n",
      "If we increase sconst then $\\|X\\|$ will be much smaller and the Taylor series will be more accurate."
     ]
    },
    {
     "cell_type": "code",
     "collapsed": false,
     "input": [
      "relerrs = np.zeros(15)\n",
      "for sconst in range(15):\n",
      "    E = TaylorSS(A)\n",
      "    relerrs[sconst] = la.norm(E - Eexact)/la.norm(Eexact)\n",
      "    \n",
      "plt.plot(relerrs, color='blue', lw=2)\n",
      "plt.yscale('log')"
     ],
     "language": "python",
     "metadata": {},
     "outputs": [
      {
       "metadata": {},
       "output_type": "display_data",
       "png": "[encoded data removed]",
       "text": [
        "<matplotlib.figure.Figure at 0x3c2ded0>"
       ]
      }
     ],
     "prompt_number": 35
    },
    {
     "cell_type": "markdown",
     "metadata": {},
     "source": [
      "This helps a lot but we are still not getting the same accuracy as <b>scipy.linalg.expm</b>.\n",
      "\n",
      "The extra accuracy of <b>scipy.linalg.expm</b> is because it:\n",
      "<ul>\n",
      "<li> uses Pade approximants instead of Taylor series.</li>\n",
      "<li> analyses the backward error of the function.</li>\n",
      "<li> uses cost analysis to perform the least possible number of multiplications.</li>\n",
      "</ul>"
     ]
    },
    {
     "cell_type": "heading",
     "level": 2,
     "metadata": {},
     "source": [
      "Available Software"
     ]
    },
    {
     "cell_type": "markdown",
     "metadata": {},
     "source": [
      "In Python the matrix exponential routines are:\n",
      "- <b>scipy.linalg.expm</b> - computes $\\exp(A)$\n",
      "- <b>scipy.sparse.linalg.expm</b> - computes $\\exp(A)B$ where $B \\in \\mathbb{C}^{n \\times k}$\n",
      "- <b>scipy.linalg.expm_frechet</b> - computes the Frechet derivative of the matrix exponential\n",
      "- <b>scipy.linalg.expm_cond</b> (SciPy 0.14) - computes the condition number of the matrix exponential in the Frobenius norm\n",
      "\n",
      "In MATLAB there is:\n",
      "- expm - built-in function evaluating $\\exp(A)$\n",
      "- Al-Mohy and Higham's code\n",
      "\n",
      "Also worth mentioning:\n",
      "- expokit"
     ]
    },
    {
     "cell_type": "heading",
     "level": 2,
     "metadata": {},
     "source": [
      "References"
     ]
    },
    {
     "cell_type": "markdown",
     "metadata": {},
     "source": [
      "[1] - ..."
     ]
    }
   ],
   "metadata": {}
  }
 ]
}